{
 "cells": [
  {
   "cell_type": "code",
   "execution_count": 21,
   "metadata": {},
   "outputs": [],
   "source": [
    "# Myreduce\n",
    "def Myreduce(a,y):\n",
    "    x=y[0]\n",
    "    for i in y[1:]:\n",
    "        x= a(x,i)\n",
    "       \n",
    "    return x\n",
    "        \n",
    "        \n",
    "    "
   ]
  },
  {
   "cell_type": "code",
   "execution_count": 3,
   "metadata": {},
   "outputs": [],
   "source": [
    "def addition(a,b):\n",
    "    return a+b\n"
   ]
  },
  {
   "cell_type": "code",
   "execution_count": 4,
   "metadata": {},
   "outputs": [
    {
     "name": "stdout",
     "output_type": "stream",
     "text": [
      "5\n"
     ]
    }
   ],
   "source": [
    "print(addition(3,2))"
   ]
  },
  {
   "cell_type": "code",
   "execution_count": 22,
   "metadata": {},
   "outputs": [
    {
     "data": {
      "text/plain": [
       "51"
      ]
     },
     "execution_count": 22,
     "metadata": {},
     "output_type": "execute_result"
    }
   ],
   "source": [
    "y=[1,2,33,4,5,6]\n",
    "Myreduce(addition,y)"
   ]
  },
  {
   "cell_type": "code",
   "execution_count": 33,
   "metadata": {},
   "outputs": [],
   "source": [
    "# My Filter\n",
    "def MyFilter(a,y):\n",
    "    x=[]\n",
    "    for i in y:\n",
    "        if a(i)==True:\n",
    "            x.append(i)\n",
    "    return x\n",
    "       \n",
    "    \n"
   ]
  },
  {
   "cell_type": "code",
   "execution_count": 34,
   "metadata": {},
   "outputs": [
    {
     "data": {
      "text/plain": [
       "[2, 4, 6, 8]"
      ]
     },
     "execution_count": 34,
     "metadata": {},
     "output_type": "execute_result"
    }
   ],
   "source": [
    "l=[1,2,3,4,5,6,7,8,9]\n",
    "MyFilter(lambda x:x%2==0,l)"
   ]
  },
  {
   "cell_type": "code",
   "execution_count": 45,
   "metadata": {},
   "outputs": [
    {
     "name": "stdout",
     "output_type": "stream",
     "text": [
      "['A', 'C', 'A', 'D', 'G', 'I', 'L', 'D']\n"
     ]
    }
   ],
   "source": [
    "#list comprehensive\n",
    "#['A', 'C', 'A', 'D', 'G', 'I', ’L’, ‘ D’]\n",
    "x='ACADGILD'\n",
    "y=[]\n",
    "for alphabet in x:\n",
    "    y.append(alphabet)\n",
    "print (y)\n",
    "    "
   ]
  },
  {
   "cell_type": "code",
   "execution_count": 58,
   "metadata": {},
   "outputs": [
    {
     "name": "stdout",
     "output_type": "stream",
     "text": [
      "['x', 'xx', 'xxx', 'xxxx', 'y', 'yy', 'yyy', 'yyyy', 'z', 'zz', 'zzz', 'zzzz']\n"
     ]
    }
   ],
   "source": [
    "#['x', 'xx', 'xxx', 'xxxx', 'y', 'yy', 'yyy', 'yyyy', 'z', 'zz', 'zzz', 'zzzz']\n",
    "l=['x','y','z']\n",
    "newList=[]\n",
    "\n",
    "for i in l:\n",
    "    for a in range(1,5):\n",
    "        newList.append(i*a)\n",
    "print (newList)\n",
    "        \n",
    "    \n"
   ]
  },
  {
   "cell_type": "code",
   "execution_count": 61,
   "metadata": {},
   "outputs": [
    {
     "name": "stdout",
     "output_type": "stream",
     "text": [
      "['x', 'y', 'z', 'xx', 'yy', 'zz', 'xx', 'yy', 'zz', 'xxxx', 'yyyy', 'zzzz']\n"
     ]
    }
   ],
   "source": [
    "#['x', 'y', 'z', 'xx', 'yy', 'zz', 'xx', 'yy', 'zz', 'xxxx', 'yyyy', 'zzzz']\n",
    "l=['x','y','z']\n",
    "newList=[]\n",
    "\n",
    "for i in range(1,5):\n",
    "    if i==3:\n",
    "        i=i-1\n",
    "    for a in l:\n",
    "        newList.append(i*a)\n",
    "print (newList)\n",
    "        "
   ]
  },
  {
   "cell_type": "code",
   "execution_count": 65,
   "metadata": {},
   "outputs": [
    {
     "name": "stdout",
     "output_type": "stream",
     "text": [
      "[[2], [3], [4], [3], [4], [5], [4], [5], [6]]\n"
     ]
    }
   ],
   "source": [
    "#[[2], [3], [4], [3], [4], [5], [4], [5], [6]]\n",
    "l=[2,3,4]\n",
    "newList=[]\n",
    "for i in l:\n",
    "    for a in range(0,3):\n",
    "        newList.append([i+a])\n",
    "print(newList)\n",
    "    "
   ]
  },
  {
   "cell_type": "code",
   "execution_count": 71,
   "metadata": {},
   "outputs": [
    {
     "name": "stdout",
     "output_type": "stream",
     "text": [
      "[[2, 3, 4, 5], [3, 4, 5, 6], [4, 5, 6, 7], [5, 6, 7, 8]]\n"
     ]
    }
   ],
   "source": [
    "#[[2, 3, 4, 5], [3, 4, 5, 6], [4, 5, 6, 7], [5, 6, 7, 8]]\n",
    "n=[2,3,4,5]\n",
    "newList=[]\n",
    "for i in n:\n",
    "    m=[]\n",
    "    for a in range(0,4):\n",
    "            m.append(i+a)\n",
    "    newList.append(m)\n",
    "print(newList)"
   ]
  },
  {
   "cell_type": "code",
   "execution_count": 73,
   "metadata": {},
   "outputs": [
    {
     "name": "stdout",
     "output_type": "stream",
     "text": [
      "[(1, 1), (2, 1), (3, 1), (1, 2), (2, 2), (3, 2), (1, 3), (2, 3), (3, 3)]\n"
     ]
    }
   ],
   "source": [
    "#[(1, 1), (2, 1), (3, 1), (1, 2), (2, 2), (3, 2), (1, 3), (2, 3), (3, 3)]\n",
    "n=[1,2,3]\n",
    "newList=[]\n",
    "for i in n:\n",
    "    m=[]\n",
    "    for a in range(1,4):\n",
    "            newList.append((a,i))\n",
    "print(newList)"
   ]
  },
  {
   "cell_type": "code",
   "execution_count": 95,
   "metadata": {},
   "outputs": [
    {
     "name": "stdout",
     "output_type": "stream",
     "text": [
      "enter a word my\n",
      "enter a word name\n",
      "enter a word is\n",
      "enter a word viral\n",
      "enter a word pravinchandra\n",
      "enter a word panchal\n",
      "enter a word i \n",
      "enter a word am\n",
      "enter a word learning\n",
      "enter a word datascience\n"
     ]
    },
    {
     "data": {
      "text/plain": [
       "'pravinchandra'"
      ]
     },
     "execution_count": 95,
     "metadata": {},
     "output_type": "execute_result"
    }
   ],
   "source": [
    "# Implement a function longestWord() that takes a list of words and returns the longest one.\n",
    "\n",
    "def greater(a,b):\n",
    "    if len(a)>len(b):\n",
    "        return a\n",
    "    else :\n",
    "        return b\n",
    "def longestWord(l):\n",
    "        return(Myreduce(greater,l))\n",
    "\n",
    "x=[]\n",
    "for i in range(10):\n",
    "    a=input('enter a word ')\n",
    "    x.append(a)\n",
    "    if i==10:\n",
    "       break\n",
    "longestWord(x)\n"
   ]
  },
  {
   "cell_type": "code",
   "execution_count": 127,
   "metadata": {},
   "outputs": [],
   "source": [
    "#Write a Python Program(with class concepts) to find the area of the triangle using\n",
    "class triangle:\n",
    "    def __init__(self,a,b,c):\n",
    "        self.a=float(a)\n",
    "        self.b=float(b)\n",
    "        self.c=float(c)\n",
    "    \n",
    "class area(triangle):\n",
    "    def __init__(self,*args):\n",
    "        super(area,self).__init__(*args)\n",
    "       \n",
    "    def tri_area(self):          \n",
    "        s= (self.a+self.b+self.c)*0.5        \n",
    "        Area = (s*(s-self.a)*(s-self.b)*(s-self.c))**0.5 \n",
    "        return Area\n",
    "        \n"
   ]
  },
  {
   "cell_type": "code",
   "execution_count": 128,
   "metadata": {},
   "outputs": [],
   "source": [
    "a =area(2,3,4)\n"
   ]
  },
  {
   "cell_type": "code",
   "execution_count": 129,
   "metadata": {},
   "outputs": [
    {
     "data": {
      "text/plain": [
       "{'a': 2.0, 'b': 3.0, 'c': 4.0}"
      ]
     },
     "execution_count": 129,
     "metadata": {},
     "output_type": "execute_result"
    }
   ],
   "source": [
    "a.__dict__"
   ]
  },
  {
   "cell_type": "code",
   "execution_count": 130,
   "metadata": {},
   "outputs": [
    {
     "data": {
      "text/plain": [
       "2.9047375096555625"
      ]
     },
     "execution_count": 130,
     "metadata": {},
     "output_type": "execute_result"
    }
   ],
   "source": [
    "a.tri_area()"
   ]
  },
  {
   "cell_type": "code",
   "execution_count": 131,
   "metadata": {},
   "outputs": [],
   "source": [
    "b=area(35,24,26)"
   ]
  },
  {
   "cell_type": "code",
   "execution_count": 132,
   "metadata": {},
   "outputs": [
    {
     "data": {
      "text/plain": [
       "311.9269746270752"
      ]
     },
     "execution_count": 132,
     "metadata": {},
     "output_type": "execute_result"
    }
   ],
   "source": [
    "b.tri_area()"
   ]
  },
  {
   "cell_type": "code",
   "execution_count": 151,
   "metadata": {},
   "outputs": [
    {
     "name": "stdout",
     "output_type": "stream",
     "text": [
      "Enter a word viral\n",
      "Enter a word eligiable\n",
      "Enter a word data\n",
      "Enter a word most\n",
      "Enter a word science\n",
      "length of word 4\n"
     ]
    }
   ],
   "source": [
    "#Write a function filter_long_words() that takes a list of words and an integer n and returns the list of words that are longer than n.\n",
    "\n",
    "listofwords=[]\n",
    "for i in range(5):\n",
    "    a=input('Enter a word ')\n",
    "    listofwords.append(a)\n",
    "n=int(input('length of word '))\n",
    "def filter_long_words(listofwords,n):\n",
    "    return MyFilter(lambda z:len(z)==n,listofwords)"
   ]
  },
  {
   "cell_type": "code",
   "execution_count": 152,
   "metadata": {},
   "outputs": [
    {
     "data": {
      "text/plain": [
       "['data', 'most']"
      ]
     },
     "execution_count": 152,
     "metadata": {},
     "output_type": "execute_result"
    }
   ],
   "source": [
    "filter_long_words(listofwords,n)"
   ]
  },
  {
   "cell_type": "code",
   "execution_count": 154,
   "metadata": {},
   "outputs": [],
   "source": [
    "#Write a Python program using function concept that maps list of words into a list of integers\n",
    "#representing the lengths of the corresponding words .\n",
    "#Hint: If a list [ ab,cde,erty] is passed on to the python function output should come as [2,3,4]\n",
    "def length_word(l):\n",
    "        newList=[]\n",
    "        for i in l:\n",
    "            newList.append(len(i))\n",
    "        return newList       \n"
   ]
  },
  {
   "cell_type": "code",
   "execution_count": 157,
   "metadata": {},
   "outputs": [
    {
     "name": "stdout",
     "output_type": "stream",
     "text": [
      "enter a word for creatng word list\n",
      "enter a word payal\n",
      "enter a word watching\n",
      "enter a word tvserial\n",
      "enter a word in\n",
      "enter a word mobile\n",
      "list of word into list of integer are \n"
     ]
    },
    {
     "data": {
      "text/plain": [
       "[5, 8, 8, 2, 6]"
      ]
     },
     "execution_count": 157,
     "metadata": {},
     "output_type": "execute_result"
    }
   ],
   "source": [
    "print('enter a word for creatng word list')\n",
    "wordlist=[]\n",
    "for i in range(5):\n",
    "    a=input('enter a word ')\n",
    "    wordlist.append(a)\n",
    "\n",
    "print('list of word into list of integer are ')\n",
    "length_word(wordlist)"
   ]
  },
  {
   "cell_type": "code",
   "execution_count": 161,
   "metadata": {},
   "outputs": [],
   "source": [
    "#Write a Python function which takes a character (i.e. a string of length 1) and returns True if it is\n",
    "#a vowel, False otherwise.\n",
    "def check_vowel():\n",
    "    word=input('enter a charater to check vowel or not : ')\n",
    "    if(len(word)==1):\n",
    "        if word=='a' or word=='A' :\n",
    "            return True\n",
    "        if word=='e'or word=='E':\n",
    "            return True\n",
    "        if word=='i'or word=='I':\n",
    "            return True\n",
    "        if word=='o'or word=='O':\n",
    "            return True\n",
    "        if word=='u'or word=='U':\n",
    "            return True\n",
    "        else :\n",
    "            return False\n",
    "    else :\n",
    "            print('enter a single character only')\n",
    "\n",
    "    \n"
   ]
  },
  {
   "cell_type": "code",
   "execution_count": 164,
   "metadata": {},
   "outputs": [
    {
     "name": "stdout",
     "output_type": "stream",
     "text": [
      "enter a charater to check vowel or not : b\n"
     ]
    },
    {
     "data": {
      "text/plain": [
       "False"
      ]
     },
     "execution_count": 164,
     "metadata": {},
     "output_type": "execute_result"
    }
   ],
   "source": [
    "check_vowel()\n"
   ]
  },
  {
   "cell_type": "code",
   "execution_count": null,
   "metadata": {},
   "outputs": [],
   "source": []
  }
 ],
 "metadata": {
  "kernelspec": {
   "display_name": "Python 3",
   "language": "python",
   "name": "python3"
  },
  "language_info": {
   "codemirror_mode": {
    "name": "ipython",
    "version": 3
   },
   "file_extension": ".py",
   "mimetype": "text/x-python",
   "name": "python",
   "nbconvert_exporter": "python",
   "pygments_lexer": "ipython3",
   "version": "3.7.6"
  }
 },
 "nbformat": 4,
 "nbformat_minor": 4
}
